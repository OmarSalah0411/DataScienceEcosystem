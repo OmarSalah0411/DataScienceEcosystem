{
 "cells": [
  {
   "cell_type": "markdown",
   "metadata": {},
   "source": [
    "# **Data Science Tools and Ecosystem**"
   ]
  },
  {
   "cell_type": "markdown",
   "metadata": {},
   "source": [
    "### In this notebook, Data Science Tools and Ecosystem are Summarized"
   ]
  },
  {
   "cell_type": "markdown",
   "metadata": {},
   "source": [
    "#### **Ojectives:**\n",
    "-List of popular languages for Data Science.\n",
    "\n",
    "-List of the commonly used libraries used by Data Scientists.\n",
    "\n",
    "-List of the commonly Data Science Tools.\n",
    "\n",
    "-Few examples of evaluating arithmetic in Python."
   ]
  },
  {
   "cell_type": "markdown",
   "metadata": {},
   "source": [
    "#### Some of the popular languages that Data Scientists Use are:\n",
    "1. Python.\n",
    "2. R.\n",
    "3. SQL.\n",
    "4. Scala.\n",
    "5. Java.\n",
    "6. C++.\n",
    "7. Julia."
   ]
  },
  {
   "cell_type": "markdown",
   "metadata": {},
   "source": [
    "#### Some of the commonly used libraries used by Data Scientists include:\n",
    "##### **For Python:**\n",
    "##### 1. Scientifics computing libraries: \n",
    "        - Pandas.\n",
    "        - Numpy.\n",
    "##### 2. Visilualization libraries: \n",
    "        - Matplotlip.\n",
    "        - Seaborn.\n",
    "##### 3. Machine learning and deep learning: \n",
    "        - Scikit-Learn.\n",
    "        - Keras.\n",
    "        - Tensor flow.\n",
    "        - Pytorch.\n",
    "#### **For other languages:**\n",
    "        - Apache spark (Many languages).\n",
    "        - Vegas (Scala).\n",
    "        - Ggplot (R).\n"
   ]
  },
  {
   "cell_type": "markdown",
   "metadata": {},
   "source": [
    "#### Some of the commonly Data Science Tools:\n",
    "|**Data Science Tools**|\n",
    "|------------------|\n",
    "|http://datacatalogs.org|\n",
    "|http://data.un.org|\n",
    "|http://data.gov.org|"
   ]
  },
  {
   "cell_type": "markdown",
   "metadata": {},
   "source": [
    "### Below are a few examples of evaluating arithmetic in Python."
   ]
  },
  {
   "cell_type": "code",
   "execution_count": 4,
   "metadata": {},
   "outputs": [
    {
     "data": {
      "text/plain": [
       "17"
      ]
     },
     "execution_count": 4,
     "metadata": {},
     "output_type": "execute_result"
    }
   ],
   "source": [
    "# This is a simple arithemtic expression to multiply then add integers.\n",
    "(3*4)+5"
   ]
  },
  {
   "cell_type": "code",
   "execution_count": 5,
   "metadata": {},
   "outputs": [
    {
     "data": {
      "text/plain": [
       "3.3333333333333335"
      ]
     },
     "execution_count": 5,
     "metadata": {},
     "output_type": "execute_result"
    }
   ],
   "source": [
    "# This will convert 200 minutes to hours by diving by 60\n",
    "200/60"
   ]
  },
  {
   "cell_type": "markdown",
   "metadata": {},
   "source": [
    "## Author: Omar Salah El-Sawy\n",
    "## Date: 8/17/2023"
   ]
  },
  {
   "cell_type": "code",
   "execution_count": null,
   "metadata": {},
   "outputs": [],
   "source": []
  }
 ],
 "metadata": {
  "kernelspec": {
   "display_name": "Python 3",
   "language": "python",
   "name": "python3"
  },
  "language_info": {
   "codemirror_mode": {
    "name": "ipython",
    "version": 3
   },
   "file_extension": ".py",
   "mimetype": "text/x-python",
   "name": "python",
   "nbconvert_exporter": "python",
   "pygments_lexer": "ipython3",
   "version": "3.8.5"
  }
 },
 "nbformat": 4,
 "nbformat_minor": 4
}
